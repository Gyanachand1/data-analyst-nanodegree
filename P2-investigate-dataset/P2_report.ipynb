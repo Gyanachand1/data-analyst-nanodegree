{
 "cells": [
  {
   "cell_type": "markdown",
   "metadata": {},
   "source": [
    "# Data Analyst Nanodegree\n",
    "## Project 1:  Investigate a dataset\n",
    "\n",
    "\n",
    "## Titanic Survival Exploration\n",
    "\n",
    "# 1. Introduction \n",
    "\n",
    "In 1912, the ship RMS Titanic struck an iceberg on its maiden voyage and sank, resulting in the deaths of most of its passengers and crew. In this introductory project, we will explore a subset of the RMS Titanic passenger manifest to determine which features best predict whether someone survived or did not survive. \n",
    "\n",
    "> Part of this work comes from previous work for the Machine Learning Nanodegree titled: [Project 0 - Titanic Survival Exploration](https://github.com/mabelvj/MLNP/tree/master/P0_titanic)\n",
    "\n",
    "\n",
    "## 1.1. Questions \n",
    "The aim of this project is to analyze the dependance of the survival outcome of Titanic passenger of different factors. Hence, the **dependent** variable will be the survival of the passenger and the others will be remain as **independent** variables.\n",
    "\n",
    "In this case, the efect on the survival of three independent features will be analyzed: class, sex and age.  It is logical to believe that higher class will result in higher possibility of survivals, as with females and younger people are more likely to survive.\n",
    "\n",
    "The questions to ask is, then:\n",
    "- How does class influence survival?\n",
    "- How does gender influence survival?\n",
    "- How does age influence survival?\n"
   ]
  },
  {
   "cell_type": "markdown",
   "metadata": {},
   "source": [
    "## 1.2. Loading dataset"
   ]
  },
  {
   "cell_type": "code",
   "execution_count": 29,
   "metadata": {
    "collapsed": false
   },
   "outputs": [
    {
     "data": {
      "text/html": [
       "<div>\n",
       "<table border=\"1\" class=\"dataframe\">\n",
       "  <thead>\n",
       "    <tr style=\"text-align: right;\">\n",
       "      <th></th>\n",
       "      <th>PassengerId</th>\n",
       "      <th>Survived</th>\n",
       "      <th>Pclass</th>\n",
       "      <th>Name</th>\n",
       "      <th>Sex</th>\n",
       "      <th>Age</th>\n",
       "      <th>SibSp</th>\n",
       "      <th>Parch</th>\n",
       "      <th>Ticket</th>\n",
       "      <th>Fare</th>\n",
       "      <th>Cabin</th>\n",
       "      <th>Embarked</th>\n",
       "    </tr>\n",
       "  </thead>\n",
       "  <tbody>\n",
       "    <tr>\n",
       "      <th>0</th>\n",
       "      <td>1</td>\n",
       "      <td>0</td>\n",
       "      <td>3</td>\n",
       "      <td>Braund, Mr. Owen Harris</td>\n",
       "      <td>male</td>\n",
       "      <td>22.0</td>\n",
       "      <td>1</td>\n",
       "      <td>0</td>\n",
       "      <td>A/5 21171</td>\n",
       "      <td>7.2500</td>\n",
       "      <td>NaN</td>\n",
       "      <td>S</td>\n",
       "    </tr>\n",
       "    <tr>\n",
       "      <th>1</th>\n",
       "      <td>2</td>\n",
       "      <td>1</td>\n",
       "      <td>1</td>\n",
       "      <td>Cumings, Mrs. John Bradley (Florence Briggs Th...</td>\n",
       "      <td>female</td>\n",
       "      <td>38.0</td>\n",
       "      <td>1</td>\n",
       "      <td>0</td>\n",
       "      <td>PC 17599</td>\n",
       "      <td>71.2833</td>\n",
       "      <td>C85</td>\n",
       "      <td>C</td>\n",
       "    </tr>\n",
       "    <tr>\n",
       "      <th>2</th>\n",
       "      <td>3</td>\n",
       "      <td>1</td>\n",
       "      <td>3</td>\n",
       "      <td>Heikkinen, Miss. Laina</td>\n",
       "      <td>female</td>\n",
       "      <td>26.0</td>\n",
       "      <td>0</td>\n",
       "      <td>0</td>\n",
       "      <td>STON/O2. 3101282</td>\n",
       "      <td>7.9250</td>\n",
       "      <td>NaN</td>\n",
       "      <td>S</td>\n",
       "    </tr>\n",
       "  </tbody>\n",
       "</table>\n",
       "</div>"
      ],
      "text/plain": [
       "   PassengerId  Survived  Pclass  \\\n",
       "0            1         0       3   \n",
       "1            2         1       1   \n",
       "2            3         1       3   \n",
       "\n",
       "                                                Name     Sex   Age  SibSp  \\\n",
       "0                            Braund, Mr. Owen Harris    male  22.0      1   \n",
       "1  Cumings, Mrs. John Bradley (Florence Briggs Th...  female  38.0      1   \n",
       "2                             Heikkinen, Miss. Laina  female  26.0      0   \n",
       "\n",
       "   Parch            Ticket     Fare Cabin Embarked  \n",
       "0      0         A/5 21171   7.2500   NaN        S  \n",
       "1      0          PC 17599  71.2833   C85        C  \n",
       "2      0  STON/O2. 3101282   7.9250   NaN        S  "
      ]
     },
     "metadata": {},
     "output_type": "display_data"
    }
   ],
   "source": [
    "#ignore warnings\n",
    "import warnings\n",
    "warnings.filterwarnings('ignore')\n",
    "\n",
    "import numpy as np\n",
    "import pandas as pd\n",
    "import random\n",
    "import matplotlib.pyplot as plt\n",
    "from scipy import stats\n",
    "import ipy_table as tbl\n",
    "\n",
    "# RMS Titanic data visualization code \n",
    "#from titanic_visualizations import survival_stats\n",
    "from IPython.display import display\n",
    "%matplotlib inline\n",
    "\n",
    "# Load the dataset\n",
    "in_file = 'titanic-data.csv'\n",
    "full_data = pd.read_csv(in_file)\n",
    "\n",
    "# Print the first few entries of the RMS Titanic data\n",
    "display(full_data.head(3))"
   ]
  },
  {
   "cell_type": "markdown",
   "metadata": {},
   "source": [
    "## 1.3. Feature description\n",
    "\n",
    "From a sample of the RMS Titanic data, we can see the various features present for each passenger on the ship:\n",
    "- **Survived**: Outcome of survival (0 = No; 1 = Yes)\n",
    "- **Pclass**: Socio-economic class (1 = Upper class; 2 = Middle class; 3 = Lower class)\n",
    "- **Name**: Name of passenger\n",
    "- **Sex**: Sex of the passenger\n",
    "- **Age**: Age of the passenger (Some entries contain `NaN`)\n",
    "- **SibSp**: Number of siblings and spouses of the passenger aboard\n",
    "- **Parch**: Number of parents and children of the passenger aboard\n",
    "- **Ticket**: Ticket number of the passenger\n",
    "- **Fare**: Fare paid by the passenger\n",
    "- **Cabin** Cabin number of the passenger (Some entries contain `NaN`)\n",
    "- **Embarked**: Port of embarkation of the passenger (C = Cherbourg; Q = Queenstown; S = Southampton)\n",
    "\n",
    "\n",
    "Since we're interested in the outcome of survival for each passenger or crew member, we can remove the **Survived** feature from this dataset and store it as its own separate variable `outcomes`. We will use these outcomes as our prediction targets.  \n",
    "Run the code block cell to remove **Survived** as a feature of the dataset and store it in `outcomes`.\n"
   ]
  },
  {
   "cell_type": "code",
   "execution_count": 30,
   "metadata": {
    "collapsed": false
   },
   "outputs": [
    {
     "data": {
      "text/html": [
       "<div>\n",
       "<table border=\"1\" class=\"dataframe\">\n",
       "  <thead>\n",
       "    <tr style=\"text-align: right;\">\n",
       "      <th></th>\n",
       "      <th>Pclass</th>\n",
       "      <th>Sex</th>\n",
       "      <th>Age</th>\n",
       "    </tr>\n",
       "  </thead>\n",
       "  <tbody>\n",
       "    <tr>\n",
       "      <th>0</th>\n",
       "      <td>3</td>\n",
       "      <td>male</td>\n",
       "      <td>22.0</td>\n",
       "    </tr>\n",
       "    <tr>\n",
       "      <th>1</th>\n",
       "      <td>1</td>\n",
       "      <td>female</td>\n",
       "      <td>38.0</td>\n",
       "    </tr>\n",
       "  </tbody>\n",
       "</table>\n",
       "</div>"
      ],
      "text/plain": [
       "   Pclass     Sex   Age\n",
       "0       3    male  22.0\n",
       "1       1  female  38.0"
      ]
     },
     "metadata": {},
     "output_type": "display_data"
    }
   ],
   "source": [
    "# Store the 'Survived' feature in a new variable and remove it from the dataset\n",
    "outcomes = full_data['Survived']\n",
    "\n",
    "# Select columns to keep\n",
    "columns_to_keep= ['Pclass', 'Sex', 'Age']\n",
    "titanic_df = full_data[columns_to_keep]\n",
    "\n",
    "# Show the new dataset with 'Survived' removed\n",
    "display(titanic_df.head(2))"
   ]
  },
  {
   "cell_type": "markdown",
   "metadata": {},
   "source": [
    "The very same sample of the RMS Titanic data now shows the **Survived** feature removed from the DataFrame. Note that `data` (the passenger data) and `outcomes` (the outcomes of survival) are now *paired*. That means for any passenger `data.loc[i]`, they have the survival outcome `outcome[i]`.\n",
    "\n",
    "**Think:** *Out of the first five passengers, if we predict that all of them survived, what would you expect the accuracy of our predictions to be?*"
   ]
  },
  {
   "cell_type": "markdown",
   "metadata": {},
   "source": [
    "# 2. Data wrangling and cleaning\n",
    "\n",
    "## 2.1. Investigate dataset\n",
    "\n",
    "Let us first investigate the content of the selected columns( class, sex and age) and check if there are any missing values."
   ]
  },
  {
   "cell_type": "code",
   "execution_count": 31,
   "metadata": {
    "collapsed": false
   },
   "outputs": [
    {
     "name": "stdout",
     "output_type": "stream",
     "text": [
      "<class 'pandas.core.frame.DataFrame'>\n",
      "RangeIndex: 891 entries, 0 to 890\n",
      "Data columns (total 3 columns):\n",
      "Pclass    891 non-null int64\n",
      "Sex       891 non-null object\n",
      "Age       714 non-null float64\n",
      "dtypes: float64(1), int64(1), object(1)\n",
      "memory usage: 21.0+ KB\n"
     ]
    }
   ],
   "source": [
    "# print out information about the data\n",
    "titanic_df.info()"
   ]
  },
  {
   "cell_type": "markdown",
   "metadata": {},
   "source": [
    "There are missing 77 missing ages.\n",
    "\n",
    "## 2.2. Insert missing ages\n",
    "\n",
    "The missing ages will be replaced by random numbers in the [0.05,.0.95] quantile range, so that the data distribution will not change it characteristics significantly. It will be taking into account **Pclass** and **Sex** for this substitution."
   ]
  },
  {
   "cell_type": "code",
   "execution_count": 32,
   "metadata": {
    "collapsed": false
   },
   "outputs": [
    {
     "name": "stdout",
     "output_type": "stream",
     "text": [
      "Sex     Pclass      \n",
      "female  1       0.05    16.00\n",
      "                0.95    58.00\n",
      "        2       0.05     4.65\n",
      "                0.95    50.00\n",
      "        3       0.05     2.00\n",
      "                0.95    44.90\n",
      "male    1       0.05    19.00\n",
      "                0.95    65.00\n",
      "        2       0.05     1.90\n",
      "                0.95    57.20\n",
      "        3       0.05     5.20\n",
      "                0.95    47.00\n",
      "Name: Age, dtype: float64\n",
      "-------------------------------------------\n",
      "Quartiles\n",
      "[0.0, 0.25, 0.5, 0.75, 1.0]\n",
      "[  0.42    19.6945  28.      38.      80.    ]\n"
     ]
    }
   ],
   "source": [
    "missing_ages = titanic_df[titanic_df['Age'].isnull()]\n",
    "# determine maximum and minimum age based on Sex and Pclass\n",
    "quantiles_ages = titanic_df[titanic_df['Age'].notnull()].groupby(['Sex','Pclass'])['Age'].quantile([0.05,0.95])\n",
    "print quantiles_ages\n",
    "\n",
    "\n",
    "def remove_na_ages(row):\n",
    "    '''\n",
    "    function to check if the age is null and replace with the a random value int te 0.1-0.9 quantile range \n",
    "    for the class and sex\n",
    "    '''\n",
    "    #print quantiles_ages[row['Sex'],row['Pclass'],0.05],quantiles_ages[row['Sex'],row['Pclass'],0.95]\n",
    "    if pd.isnull(row['Age']):\n",
    "        return round(random.uniform(quantiles_ages[row['Sex'],row['Pclass'],0.05],\n",
    "                                       quantiles_ages[row['Sex'],row['Pclass'],0.95]),3)# round element to 3 decimals\n",
    "    else:\n",
    "        return round(row['Age'],3) # convert to 3 decimals\n",
    "\n",
    "#Create a copy of the data\n",
    "df = titanic_df.copy(deep = True)\n",
    "df['Age'] = titanic_df.apply(remove_na_ages, axis=1)\n",
    "\n",
    "##------- Divide age by ranges--------------\n",
    "\n",
    "#Calculate the quantiles\n",
    "quartiles = df['Age'].quantile([.0,.25,.5,.75, 1.])\n",
    "print \"-------------------------------------------\"\n",
    "print \"Quartiles\"\n",
    "print [.0,.25,.5,.75, 1.]\n",
    "print quartiles.values\n",
    "\n",
    "df['Age_group'] = pd.cut(df['Age'], quartiles.values, labels=[1,2,3,4], precision= 3, include_lowest= True)\n",
    "\n",
    "# transform categorical data into integer   \n",
    "\n",
    "df['Sex_label'] =pd.Categorical.from_array(df['Sex'])\n",
    "\n",
    "        #Is a Factor, as in R. To access labels: f.labels\n",
    "        # To access levels: f.levels"
   ]
  },
  {
   "cell_type": "code",
   "execution_count": 33,
   "metadata": {
    "collapsed": false
   },
   "outputs": [
    {
     "data": {
      "image/png": "[encoded data removed]",
      "text/plain": [
       "<matplotlib.figure.Figure at 0x10edcf250>"
      ]
     },
     "metadata": {},
     "output_type": "display_data"
    }
   ],
   "source": [
    "def place_legend_outside(ax):\n",
    "    \n",
    "    # Shrink current axis by 20%\n",
    "    box = ax.get_position()\n",
    "    #ax.set_position([box.x0, box.y0, box.width * 0.8, box.height])\n",
    "\n",
    "    # Put a legend to the right of the current axis\n",
    "    ax.legend(loc='lower left', bbox_to_anchor=(1, 0.6), fontsize= 14)\n",
    "\n",
    "\n",
    "    \n",
    "fig = plt.figure(figsize=[12,3])\n",
    "ax = fig.add_subplot(131)\n",
    "\n",
    "age_labels=['0','%d'%(quartiles[.25]), '%d'%(quartiles[.5]), '%d'%(quartiles[.75]),'%d'%(quartiles[1.])]\n",
    "\n",
    "limits= [0,120]\n",
    "\n",
    "\n",
    "#First class, ages,gender\n",
    "plt.subplot(131)\n",
    "plt.hist([df['Age_group'][(df['Pclass']==1) & (df['Sex']== 'female')].values.labels,\n",
    "          df['Age_group'][(df['Pclass']==1) & (df['Sex']== 'male')].values.labels], \n",
    "         color=['red', 'blue'], bins=[0, 1, 2, 3, 4], histtype='bar')\n",
    "plt.title('1st class', fontsize = 16)\n",
    "plt.xticks(range(5), age_labels)\n",
    "plt.ylim(limits)\n",
    "\n",
    "\n",
    "#Second class, ages,gender\n",
    "plt.subplot(132)\n",
    "plt.hist([df['Age_group'][(df['Pclass']==2) & (df['Sex']== 'female')].values.labels,\n",
    "          df['Age_group'][(df['Pclass']==2) & (df['Sex']== 'male')].values.labels], \n",
    "         color=['red', 'blue'], bins=[0, 1, 2, 3, 4], histtype='bar')\n",
    "\n",
    "plt.title('2nd class', fontsize = 16)\n",
    "#plt.title('female')\n",
    "plt.xticks(range(5), age_labels)\n",
    "plt.ylim(limits)\n",
    "\n",
    "\n",
    "#Third class, ages,gender\n",
    "ax3= plt.subplot(133)\n",
    "plt.hist([df['Age_group'][(df['Pclass']==3) & (df['Sex']== 'female')].values.labels,\n",
    "          df['Age_group'][(df['Pclass']==3) & (df['Sex']== 'male')].values.labels], \n",
    "         color=['red', 'blue'], bins=[0, 1, 2, 3, 4], histtype='bar', label = ['female', 'male'] )\n",
    "\n",
    "plt.title('3rd class', fontsize = 16)\n",
    "plt.xticks(range(5), age_labels)\n",
    "plt.ylim(limits)\n",
    "plt.legend()\n",
    "place_legend_outside(ax3)"
   ]
  },
  {
   "cell_type": "markdown",
   "metadata": {},
   "source": [
    "## Survival rate\n",
    "\n",
    "In this section it will be calculated the survival rate for different groups determined by age, gender and class.\n",
    "\n",
    "The survival rate will be defined : $\\frac{N_{survivors}}{N_{total}}$"
   ]
  },
  {
   "cell_type": "code",
   "execution_count": 34,
   "metadata": {
    "collapsed": false
   },
   "outputs": [
    {
     "name": "stdout",
     "output_type": "stream",
     "text": [
      "Overal survival rate: 0.384\n"
     ]
    },
    {
     "data": {
      "text/plain": [
       "<matplotlib.legend.Legend at 0x11870f750>"
      ]
     },
     "execution_count": 34,
     "metadata": {},
     "output_type": "execute_result"
    },
    {
     "data": {
      "image/png": "[encoded data removed]",
      "text/plain": [
       "<matplotlib.figure.Figure at 0x118890c90>"
      ]
     },
     "metadata": {},
     "output_type": "display_data"
    }
   ],
   "source": [
    "# Plot survival rate by feature\n",
    "fig = plt.figure(figsize=[15,5])\n",
    "ax = fig.add_subplot(131)\n",
    "fig.suptitle('Survival rate', fontsize = 18)\n",
    "limits= [0,1.1]\n",
    "\n",
    "def survival_ratio(df):\n",
    "    '''This function returns the survival ratio from from the dataframe introduced df'''\n",
    "    return np.round(np.sum(df==1)/float(df.size),3)\n",
    "\n",
    "print 'Overal survival rate: %.3f' %survival_ratio(outcomes)\n",
    "\n",
    "#SURVIVAL\n",
    "\n",
    "#1.Class\n",
    "\n",
    "# Create a table\n",
    "table_class = pd.crosstab([outcomes], [df['Pclass']])\n",
    "survival_rate_class= table_class.iloc[1]/table_class.sum(axis=0) # iloc[1] to pick the survivors, 0: dead\n",
    "\n",
    "ax1 = plt.subplot(131)\n",
    "\n",
    "plt.bar(survival_rate_class.index,survival_rate_class.values)\n",
    "plt.xticks(survival_rate_class.index.values, ['1st', '2nd', '3rd'])\n",
    "plt.xlabel('Class')\n",
    "plt.ylabel('Survival ratio')\n",
    "plt.ylim(limits)\n",
    "\n",
    "#Sex\n",
    "\n",
    "table_sex = pd.crosstab([outcomes], [df['Sex_label']])\n",
    "survival_rate_sex= table_sex.iloc[1]/table_sex.sum(axis=0)\n",
    "\n",
    "ax2 = plt.subplot(132)\n",
    "\n",
    "plt.bar(survival_rate_sex.index.values.labels,survival_rate_sex.values)\n",
    "plt.xticks(survival_rate_sex.index.values.labels, survival_rate_sex.index.values) #Acess the indexes, which are categorical\n",
    "                                                                                # label: 0,1 and value: male, female\n",
    "plt.xlabel('Sex')\n",
    "plt.ylabel('')\n",
    "plt.ylim(limits)\n",
    "\n",
    "#Ages\n",
    "table_ages = pd.crosstab([outcomes], [df['Age_group']])\n",
    "survival_rate_ages= table_ages.iloc[1]/table_ages.sum(axis=0)\n",
    "\n",
    "ax3 = plt.subplot(133)\n",
    "\n",
    "plt.bar(survival_rate_ages.index.values.labels,survival_rate_ages.values)\n",
    "plt.xticks(survival_rate_ages.index.values.labels, \n",
    "           ['[0-%d]'%quartiles[.25],'(%d-%d]'%(quartiles[.25],quartiles[.5]), \n",
    "            '(%d-%d]'%(quartiles[.5],quartiles[.75]), '[%d,80]'%(quartiles[.75])])\n",
    "plt.xlabel('Age (years)')\n",
    "plt.ylabel('')\n",
    "plt.ylim(limits)\n",
    "\n",
    "\n",
    "#HORIZONTAL LINE for the overal survival rate\n",
    "\n",
    "ax1.axhline(y=survival_ratio(outcomes), xmin=0,xmax=3, color = 'grey', linestyle=\"--\",linewidth=0.5,zorder=0)\n",
    "ax2.axhline(y=survival_ratio(outcomes), xmin=0,xmax=3, color = 'grey', linestyle=\"--\",linewidth=0.5,zorder=0)\n",
    "ax3.axhline(y=survival_ratio(outcomes), xmin=0,xmax=3, color = 'grey', linestyle=\"--\",linewidth=0.5,zorder=0, label = '$\\mu_0$')\n",
    "plt.legend()"
   ]
  },
  {
   "cell_type": "markdown",
   "metadata": {},
   "source": [
    "> From this plot it can be observed that class and gender influence the survival. On the contrary, age does not seem to influence the survival."
   ]
  },
  {
   "cell_type": "code",
   "execution_count": 35,
   "metadata": {
    "collapsed": false
   },
   "outputs": [
    {
     "data": {
      "text/html": [
       "<div>\n",
       "<table border=\"1\" class=\"dataframe\">\n",
       "  <thead>\n",
       "    <tr>\n",
       "      <th>Pclass</th>\n",
       "      <th colspan=\"8\" halign=\"left\">1</th>\n",
       "      <th colspan=\"5\" halign=\"left\">2</th>\n",
       "      <th colspan=\"8\" halign=\"left\">3</th>\n",
       "    </tr>\n",
       "    <tr>\n",
       "      <th>Sex</th>\n",
       "      <th colspan=\"4\" halign=\"left\">female</th>\n",
       "      <th colspan=\"4\" halign=\"left\">male</th>\n",
       "      <th colspan=\"2\" halign=\"left\">female</th>\n",
       "      <th>...</th>\n",
       "      <th colspan=\"2\" halign=\"left\">male</th>\n",
       "      <th colspan=\"4\" halign=\"left\">female</th>\n",
       "      <th colspan=\"4\" halign=\"left\">male</th>\n",
       "    </tr>\n",
       "    <tr>\n",
       "      <th>Age_group</th>\n",
       "      <th>1</th>\n",
       "      <th>2</th>\n",
       "      <th>3</th>\n",
       "      <th>4</th>\n",
       "      <th>1</th>\n",
       "      <th>2</th>\n",
       "      <th>3</th>\n",
       "      <th>4</th>\n",
       "      <th>1</th>\n",
       "      <th>2</th>\n",
       "      <th>...</th>\n",
       "      <th>3</th>\n",
       "      <th>4</th>\n",
       "      <th>1</th>\n",
       "      <th>2</th>\n",
       "      <th>3</th>\n",
       "      <th>4</th>\n",
       "      <th>1</th>\n",
       "      <th>2</th>\n",
       "      <th>3</th>\n",
       "      <th>4</th>\n",
       "    </tr>\n",
       "    <tr>\n",
       "      <th>Survived</th>\n",
       "      <th></th>\n",
       "      <th></th>\n",
       "      <th></th>\n",
       "      <th></th>\n",
       "      <th></th>\n",
       "      <th></th>\n",
       "      <th></th>\n",
       "      <th></th>\n",
       "      <th></th>\n",
       "      <th></th>\n",
       "      <th></th>\n",
       "      <th></th>\n",
       "      <th></th>\n",
       "      <th></th>\n",
       "      <th></th>\n",
       "      <th></th>\n",
       "      <th></th>\n",
       "      <th></th>\n",
       "      <th></th>\n",
       "      <th></th>\n",
       "      <th></th>\n",
       "    </tr>\n",
       "  </thead>\n",
       "  <tbody>\n",
       "    <tr>\n",
       "      <th>0</th>\n",
       "      <td>1</td>\n",
       "      <td>1</td>\n",
       "      <td>0</td>\n",
       "      <td>1</td>\n",
       "      <td>3</td>\n",
       "      <td>8</td>\n",
       "      <td>19</td>\n",
       "      <td>47</td>\n",
       "      <td>0</td>\n",
       "      <td>3</td>\n",
       "      <td>...</td>\n",
       "      <td>32</td>\n",
       "      <td>24</td>\n",
       "      <td>31</td>\n",
       "      <td>16</td>\n",
       "      <td>12</td>\n",
       "      <td>13</td>\n",
       "      <td>79</td>\n",
       "      <td>94</td>\n",
       "      <td>74</td>\n",
       "      <td>53</td>\n",
       "    </tr>\n",
       "    <tr>\n",
       "      <th>1</th>\n",
       "      <td>14</td>\n",
       "      <td>15</td>\n",
       "      <td>27</td>\n",
       "      <td>35</td>\n",
       "      <td>4</td>\n",
       "      <td>10</td>\n",
       "      <td>13</td>\n",
       "      <td>18</td>\n",
       "      <td>17</td>\n",
       "      <td>19</td>\n",
       "      <td>...</td>\n",
       "      <td>3</td>\n",
       "      <td>2</td>\n",
       "      <td>38</td>\n",
       "      <td>19</td>\n",
       "      <td>12</td>\n",
       "      <td>3</td>\n",
       "      <td>15</td>\n",
       "      <td>17</td>\n",
       "      <td>10</td>\n",
       "      <td>5</td>\n",
       "    </tr>\n",
       "  </tbody>\n",
       "</table>\n",
       "<p>2 rows × 24 columns</p>\n",
       "</div>"
      ],
      "text/plain": [
       "Pclass         1                                   2     ...               3  \\\n",
       "Sex       female             male             female     ... male     female   \n",
       "Age_group      1   2   3   4    1   2   3   4      1   2 ...    3   4      1   \n",
       "Survived                                                 ...                   \n",
       "0              1   1   0   1    3   8  19  47      0   3 ...   32  24     31   \n",
       "1             14  15  27  35    4  10  13  18     17  19 ...    3   2     38   \n",
       "\n",
       "Pclass                                  \n",
       "Sex                   male              \n",
       "Age_group   2   3   4    1   2   3   4  \n",
       "Survived                                \n",
       "0          16  12  13   79  94  74  53  \n",
       "1          19  12   3   15  17  10   5  \n",
       "\n",
       "[2 rows x 24 columns]"
      ]
     },
     "metadata": {},
     "output_type": "display_data"
    },
    {
     "data": {
      "text/plain": [
       "Pclass  Sex     Age_group\n",
       "1       female  1            0.933333\n",
       "                2            0.937500\n",
       "                3            1.000000\n",
       "                4            0.972222\n",
       "        male    1            0.571429\n",
       "                2            0.555556\n",
       "                3            0.406250\n",
       "                4            0.276923\n",
       "2       female  1            1.000000\n",
       "                2            0.863636\n",
       "                3            0.952381\n",
       "                4            0.875000\n",
       "        male    1            0.571429\n",
       "                2            0.000000\n",
       "                3            0.085714\n",
       "                4            0.076923\n",
       "3       female  1            0.550725\n",
       "                2            0.542857\n",
       "                3            0.500000\n",
       "                4            0.187500\n",
       "        male    1            0.159574\n",
       "                2            0.153153\n",
       "                3            0.119048\n",
       "                4            0.086207\n",
       "dtype: float64"
      ]
     },
     "metadata": {},
     "output_type": "display_data"
    }
   ],
   "source": [
    "# Create a table\n",
    "table = pd.crosstab([outcomes], [df['Pclass'], df['Sex'],df['Age_group']])\n",
    "display(table)\n",
    "\n",
    "# Calculate the survival rate for each age group, sex and class\n",
    "survival_rate= (table.iloc[1]/table.sum(axis=0))\n",
    "display(survival_rate)"
   ]
  },
  {
   "cell_type": "code",
   "execution_count": 36,
   "metadata": {
    "collapsed": false
   },
   "outputs": [
    {
     "data": {
      "image/png": "[encoded data removed]",
      "text/plain": [
       "<matplotlib.figure.Figure at 0x1179d8910>"
      ]
     },
     "metadata": {},
     "output_type": "display_data"
    }
   ],
   "source": [
    "#PLOT SURVIVAL RATE\n",
    "\n",
    "fig = plt.figure(figsize=[12,4])\n",
    "fig.suptitle('Survival rate', fontsize = 18)\n",
    "\n",
    "age_labels=['0','%d'%(quartiles[.25]), '%d'%(quartiles[.5]), '%d'%(quartiles[.75]),'%d'%(quartiles[1.])]\n",
    "\n",
    "limits= [0,1.1]\n",
    "x_values = np.arange(start= .5, stop= 4.5, step=1)\n",
    "\n",
    "#First class, ages,gender\n",
    "plt.subplot(131)\n",
    "plt.plot(x_values,survival_rate[1]['female'].values, 'r-^')\n",
    "plt.plot(x_values, survival_rate[1]['male'].values, 'b-o') \n",
    "\n",
    "\n",
    "plt.title('1st class', fontsize = 16)\n",
    "plt.ylabel('survival rate')\n",
    "plt.xticks(range(5), age_labels)\n",
    "plt.ylim(limits)\n",
    "\n",
    "\n",
    "#Second class, ages,gender\n",
    "plt.subplot(132)\n",
    "\n",
    "plt.plot(x_values,survival_rate[2]['female'].values, 'r-^')\n",
    "plt.plot(x_values, survival_rate[2]['male'].values, 'b-o') \n",
    "\n",
    "\n",
    "plt.title('2nd class', fontsize = 16)\n",
    "#plt.title('female')\n",
    "plt.xticks(range(5), age_labels)\n",
    "plt.ylim(limits)\n",
    "\n",
    "\n",
    "#Third class, ages,gender\n",
    "ax3= plt.subplot(133)\n",
    "\n",
    "plt.plot(x_values,survival_rate[3]['female'].values, 'r-^', label= 'female')\n",
    "plt.plot(x_values, survival_rate[3]['male'].values, 'b-o', label= 'male') \n",
    "\n",
    "plt.title('3rd class', fontsize = 16)\n",
    "\n",
    "plt.xticks(range(5), age_labels)\n",
    "plt.ylim(limits)\n",
    "plt.legend()\n",
    "\n",
    "place_legend_outside(ax3)\n",
    "\n",
    "plt.subplots_adjust(top=0.8)"
   ]
  },
  {
   "cell_type": "markdown",
   "metadata": {},
   "source": [
    "> From this plot it can be observed that class is determinant in the survival rate as it is gender. Females tend to survive in a higher amount than males do, and also higher class gives higher chances of survival. "
   ]
  },
  {
   "cell_type": "markdown",
   "metadata": {},
   "source": [
    "# 3. Chi-squared tests\n",
    "In this section it will be performed a chi-squared test per independent feature in order to check the 'a priori' hypotheses.\n",
    "\n",
    "## 3.1. Class\n",
    "\n",
    "* The null Hypothesis ($H_0$) will be that **Class** does not affect the variable **Survived**\n",
    "\n",
    "- After performing a **Chi-squared** test for independence it is obtained $\\chi^2= 102.889$ and a $p-value=0.000$\n",
    "\n",
    "- p < 0.05 and hence the null hipothesis is rejected as it is shown that **Class** has an effect in the survival."
   ]
  },
  {
   "cell_type": "code",
   "execution_count": 37,
   "metadata": {
    "collapsed": false
   },
   "outputs": [
    {
     "name": "stdout",
     "output_type": "stream",
     "text": [
      "Pclass      1   2    3\n",
      "Survived              \n",
      "0          80  97  372\n",
      "1         136  87  119\n"
     ]
    },
    {
     "data": {
      "text/html": [
       "<table border=\"1\" cellpadding=\"3\" cellspacing=\"0\"  style=\"border:1px solid black;border-collapse:collapse;\"><tr><td>Item</td><td>Value</td></tr><tr><td>Chi-Square&nbspTest</td><td>102.8890</td></tr><tr><td>P-Value</td><td>0.0000</td></tr></table>"
      ],
      "text/plain": [
       "<ipy_table.IpyTable at 0x1179bad50>"
      ]
     },
     "execution_count": 37,
     "metadata": {},
     "output_type": "execute_result"
    }
   ],
   "source": [
    "table = pd.crosstab([outcomes], df['Pclass'])\n",
    "#table = pd.crosstab([outcomes[df[df['Pclass']==1].index],outcomes[df[df['Pclass']==2].index], outcomes[df[df['Pclass']==3].index]])\n",
    "print table\n",
    "chi2, p, dof, expected = stats.chi2_contingency(table.values)\n",
    "results = [\n",
    "    ['Item','Value'],\n",
    "    ['Chi-Square Test',chi2],\n",
    "    ['P-Value', p]\n",
    "    \n",
    "]\n",
    "tbl.make_table(results)"
   ]
  },
  {
   "cell_type": "markdown",
   "metadata": {},
   "source": [
    "## 3.2. Sex\n",
    "\n",
    "* The null Hypothesis ($H_0$) will be that **Sex** does not affect the variable **Survived**\n",
    "\n",
    "- After performing a **Chi-squared** test for independence it is obtained $\\chi^2= 260.717$ and a $p-value=0.000$\n",
    "\n",
    "- p < 0.05 and hence the null hipothesis is rejected as it is shown that **Sex** has an effect in the survival."
   ]
  },
  {
   "cell_type": "code",
   "execution_count": 38,
   "metadata": {
    "collapsed": false
   },
   "outputs": [
    {
     "name": "stdout",
     "output_type": "stream",
     "text": [
      "Sex_label  female  male\n",
      "Survived               \n",
      "0              81   468\n",
      "1             233   109\n",
      "[[ 193.47474747  355.52525253]\n",
      " [ 120.52525253  221.47474747]]\n"
     ]
    },
    {
     "data": {
      "text/html": [
       "<table border=\"1\" cellpadding=\"3\" cellspacing=\"0\"  style=\"border:1px solid black;border-collapse:collapse;\"><tr><td>Item</td><td>Value</td></tr><tr><td>Chi-Square&nbspTest</td><td>260.7170</td></tr><tr><td>P-Value</td><td>0.0000</td></tr></table>"
      ],
      "text/plain": [
       "<ipy_table.IpyTable at 0x1183cee10>"
      ]
     },
     "execution_count": 38,
     "metadata": {},
     "output_type": "execute_result"
    }
   ],
   "source": [
    "table = pd.crosstab([outcomes], df['Sex_label'])\n",
    "#table = pd.crosstab([outcomes[df[df['Pclass']==1].index],outcomes[df[df['Pclass']==2].index], outcomes[df[df['Pclass']==3].index]])\n",
    "print table\n",
    "chi2, p, dof, expected = stats.chi2_contingency(table.values)\n",
    "print expected\n",
    "results = [\n",
    "    ['Item','Value'],\n",
    "    ['Chi-Square Test',chi2],\n",
    "    ['P-Value', p]\n",
    "    \n",
    "]\n",
    "tbl.make_table(results)"
   ]
  },
  {
   "cell_type": "markdown",
   "metadata": {},
   "source": [
    "## 3.3. Age\n",
    "\n",
    "* The null Hypothesis ($H_0$) will be that **Age** do not affect the variable **Survived**\n",
    "\n",
    "- After performing a **Chi-squared** test for independence it is obtained $\\chi^2= 0.912$ and a $p-value=0.823$\n",
    "\n",
    "- p > 0.05 and hence the we fait at rejecting the as is shown that **Class** has no effect in the survival. "
   ]
  },
  {
   "cell_type": "code",
   "execution_count": 39,
   "metadata": {
    "collapsed": false
   },
   "outputs": [
    {
     "name": "stdout",
     "output_type": "stream",
     "text": [
      "Age_group    1    2    3    4\n",
      "Survived                     \n",
      "0          123  148  138  140\n",
      "1          100   80   85   77\n",
      "[[ 137.4040404   140.48484848  137.4040404   133.70707071]\n",
      " [  85.5959596    87.51515152   85.5959596    83.29292929]]\n"
     ]
    },
    {
     "data": {
      "text/html": [
       "<table border=\"1\" cellpadding=\"3\" cellspacing=\"0\"  style=\"border:1px solid black;border-collapse:collapse;\"><tr><td>Item</td><td>Value</td></tr><tr><td>Chi-Square&nbspTest</td><td>5.7596</td></tr><tr><td>P-Value</td><td>0.1239</td></tr></table>"
      ],
      "text/plain": [
       "<ipy_table.IpyTable at 0x1179de710>"
      ]
     },
     "execution_count": 39,
     "metadata": {},
     "output_type": "execute_result"
    }
   ],
   "source": [
    "table = pd.crosstab([outcomes], df['Age_group'])\n",
    "print table\n",
    "chi2, p, dof, expected = stats.chi2_contingency(table.values)\n",
    "print expected\n",
    "results = [\n",
    "    ['Item','Value'],\n",
    "    ['Chi-Square Test',chi2],\n",
    "    ['P-Value', p]\n",
    "    \n",
    "]\n",
    "tbl.make_table(results)"
   ]
  },
  {
   "cell_type": "markdown",
   "metadata": {},
   "source": [
    "# 5. Questions\n",
    "\n",
    "- How does class influence survival?\n",
    "> Class affects survival, and higher class tend to be related to higher chance of survival\n",
    "- How does gender influence survival?\n",
    "> Gender affects survival, and females are more likely to survive than males.\n",
    "- How does age influence survival?\n",
    "> Age does not seem to affect survival."
   ]
  }
 ],
 "metadata": {
  "kernelspec": {
   "display_name": "Python 2",
   "language": "python",
   "name": "python2"
  },
  "widgets": {
   "state": {},
   "version": "1.1.2"
  }
 },
 "nbformat": 4,
 "nbformat_minor": 0
}
