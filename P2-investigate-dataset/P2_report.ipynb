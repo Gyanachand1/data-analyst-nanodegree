{
 "cells": [
  {
   "cell_type": "markdown",
   "metadata": {},
   "source": [
    "# Data Analyst Nanodegree\n",
    "## Project 1:  Investigate a dataset\n",
    "\n",
    "\n",
    "## Titanic Survival Exploration\n",
    "\n",
    "# 1. Introduction \n",
    "\n",
    "In 1912, the ship RMS Titanic struck an iceberg on its maiden voyage and sank, resulting in the deaths of most of its passengers and crew. In this introductory project, we will explore a subset of the RMS Titanic passenger manifest to determine which features best predict whether someone survived or did not survive. \n",
    "\n",
    "> Part of this work comes from previous work for the Machine Learning Nanodegree titled: [Project 0 - Titanic Survival Exploration](https://github.com/mabelvj/MLNP/tree/master/P0_titanic)\n",
    "\n",
    "\n",
    "## 1.1. Questions \n",
    "The aim of this project is to analyze the dependance of the survival outcome of Titanic passenger of different factors. Hence, the **dependent** variable will be the survival of the passenger and the others will be remain as **independent** variables.\n",
    "\n",
    "In this case, the efect on the survival of three independent features will be analyzed: class, sex and age.  It is logical to believe that higher class will result in higher possibility of survivals, as with females and younger people are more likely to survive.\n",
    "\n",
    "The questions to ask is, then:\n",
    "- How does class influence survival?\n",
    "- How does gender influence survival?\n",
    "- How does age influence survival?\n"
   ]
  },
  {
   "cell_type": "markdown",
   "metadata": {},
   "source": [
    "## 1.2. Loading dataset"
   ]
  },
  {
   "cell_type": "code",
   "execution_count": 2,
   "metadata": {
    "collapsed": false
   },
   "outputs": [
    {
     "data": {
      "text/html": [
       "<div>\n",
       "<table border=\"1\" class=\"dataframe\">\n",
       "  <thead>\n",
       "    <tr style=\"text-align: right;\">\n",
       "      <th></th>\n",
       "      <th>PassengerId</th>\n",
       "      <th>Survived</th>\n",
       "      <th>Pclass</th>\n",
       "      <th>Name</th>\n",
       "      <th>Sex</th>\n",
       "      <th>Age</th>\n",
       "      <th>SibSp</th>\n",
       "      <th>Parch</th>\n",
       "      <th>Ticket</th>\n",
       "      <th>Fare</th>\n",
       "      <th>Cabin</th>\n",
       "      <th>Embarked</th>\n",
       "    </tr>\n",
       "  </thead>\n",
       "  <tbody>\n",
       "    <tr>\n",
       "      <th>0</th>\n",
       "      <td>1</td>\n",
       "      <td>0</td>\n",
       "      <td>3</td>\n",
       "      <td>Braund, Mr. Owen Harris</td>\n",
       "      <td>male</td>\n",
       "      <td>22.0</td>\n",
       "      <td>1</td>\n",
       "      <td>0</td>\n",
       "      <td>A/5 21171</td>\n",
       "      <td>7.2500</td>\n",
       "      <td>NaN</td>\n",
       "      <td>S</td>\n",
       "    </tr>\n",
       "    <tr>\n",
       "      <th>1</th>\n",
       "      <td>2</td>\n",
       "      <td>1</td>\n",
       "      <td>1</td>\n",
       "      <td>Cumings, Mrs. John Bradley (Florence Briggs Th...</td>\n",
       "      <td>female</td>\n",
       "      <td>38.0</td>\n",
       "      <td>1</td>\n",
       "      <td>0</td>\n",
       "      <td>PC 17599</td>\n",
       "      <td>71.2833</td>\n",
       "      <td>C85</td>\n",
       "      <td>C</td>\n",
       "    </tr>\n",
       "    <tr>\n",
       "      <th>2</th>\n",
       "      <td>3</td>\n",
       "      <td>1</td>\n",
       "      <td>3</td>\n",
       "      <td>Heikkinen, Miss. Laina</td>\n",
       "      <td>female</td>\n",
       "      <td>26.0</td>\n",
       "      <td>0</td>\n",
       "      <td>0</td>\n",
       "      <td>STON/O2. 3101282</td>\n",
       "      <td>7.9250</td>\n",
       "      <td>NaN</td>\n",
       "      <td>S</td>\n",
       "    </tr>\n",
       "  </tbody>\n",
       "</table>\n",
       "</div>"
      ],
      "text/plain": [
       "   PassengerId  Survived  Pclass  \\\n",
       "0            1         0       3   \n",
       "1            2         1       1   \n",
       "2            3         1       3   \n",
       "\n",
       "                                                Name     Sex   Age  SibSp  \\\n",
       "0                            Braund, Mr. Owen Harris    male  22.0      1   \n",
       "1  Cumings, Mrs. John Bradley (Florence Briggs Th...  female  38.0      1   \n",
       "2                             Heikkinen, Miss. Laina  female  26.0      0   \n",
       "\n",
       "   Parch            Ticket     Fare Cabin Embarked  \n",
       "0      0         A/5 21171   7.2500   NaN        S  \n",
       "1      0          PC 17599  71.2833   C85        C  \n",
       "2      0  STON/O2. 3101282   7.9250   NaN        S  "
      ]
     },
     "metadata": {},
     "output_type": "display_data"
    }
   ],
   "source": [
    "import numpy as np\n",
    "import pandas as pd\n",
    "import random\n",
    "import matplotlib.pyplot as plt\n",
    "\n",
    "# RMS Titanic data visualization code \n",
    "#from titanic_visualizations import survival_stats\n",
    "from IPython.display import display\n",
    "%matplotlib inline\n",
    "\n",
    "# Load the dataset\n",
    "in_file = 'titanic-data.csv'\n",
    "full_data = pd.read_csv(in_file)\n",
    "\n",
    "# Print the first few entries of the RMS Titanic data\n",
    "display(full_data.head(3))"
   ]
  },
  {
   "cell_type": "markdown",
   "metadata": {},
   "source": [
    "## 1.3. Feature description\n",
    "\n",
    "From a sample of the RMS Titanic data, we can see the various features present for each passenger on the ship:\n",
    "- **Survived**: Outcome of survival (0 = No; 1 = Yes)\n",
    "- **Pclass**: Socio-economic class (1 = Upper class; 2 = Middle class; 3 = Lower class)\n",
    "- **Name**: Name of passenger\n",
    "- **Sex**: Sex of the passenger\n",
    "- **Age**: Age of the passenger (Some entries contain `NaN`)\n",
    "- **SibSp**: Number of siblings and spouses of the passenger aboard\n",
    "- **Parch**: Number of parents and children of the passenger aboard\n",
    "- **Ticket**: Ticket number of the passenger\n",
    "- **Fare**: Fare paid by the passenger\n",
    "- **Cabin** Cabin number of the passenger (Some entries contain `NaN`)\n",
    "- **Embarked**: Port of embarkation of the passenger (C = Cherbourg; Q = Queenstown; S = Southampton)\n",
    "\n",
    "\n",
    "Since we're interested in the outcome of survival for each passenger or crew member, we can remove the **Survived** feature from this dataset and store it as its own separate variable `outcomes`. We will use these outcomes as our prediction targets.  \n",
    "Run the code block cell to remove **Survived** as a feature of the dataset and store it in `outcomes`.\n"
   ]
  },
  {
   "cell_type": "code",
   "execution_count": 3,
   "metadata": {
    "collapsed": false
   },
   "outputs": [
    {
     "data": {
      "text/html": [
       "<div>\n",
       "<table border=\"1\" class=\"dataframe\">\n",
       "  <thead>\n",
       "    <tr style=\"text-align: right;\">\n",
       "      <th></th>\n",
       "      <th>Pclass</th>\n",
       "      <th>Sex</th>\n",
       "      <th>Age</th>\n",
       "    </tr>\n",
       "  </thead>\n",
       "  <tbody>\n",
       "    <tr>\n",
       "      <th>0</th>\n",
       "      <td>3</td>\n",
       "      <td>male</td>\n",
       "      <td>22.0</td>\n",
       "    </tr>\n",
       "    <tr>\n",
       "      <th>1</th>\n",
       "      <td>1</td>\n",
       "      <td>female</td>\n",
       "      <td>38.0</td>\n",
       "    </tr>\n",
       "  </tbody>\n",
       "</table>\n",
       "</div>"
      ],
      "text/plain": [
       "   Pclass     Sex   Age\n",
       "0       3    male  22.0\n",
       "1       1  female  38.0"
      ]
     },
     "metadata": {},
     "output_type": "display_data"
    }
   ],
   "source": [
    "# Store the 'Survived' feature in a new variable and remove it from the dataset\n",
    "outcomes = full_data['Survived']\n",
    "\n",
    "# Select columns to keep\n",
    "columns_to_keep= ['Pclass', 'Sex', 'Age']\n",
    "titanic_df = full_data[columns_to_keep]\n",
    "\n",
    "# Show the new dataset with 'Survived' removed\n",
    "display(titanic_df.head(2))"
   ]
  },
  {
   "cell_type": "markdown",
   "metadata": {},
   "source": [
    "The very same sample of the RMS Titanic data now shows the **Survived** feature removed from the DataFrame. Note that `data` (the passenger data) and `outcomes` (the outcomes of survival) are now *paired*. That means for any passenger `data.loc[i]`, they have the survival outcome `outcome[i]`.\n",
    "\n",
    "**Think:** *Out of the first five passengers, if we predict that all of them survived, what would you expect the accuracy of our predictions to be?*"
   ]
  },
  {
   "cell_type": "markdown",
   "metadata": {},
   "source": [
    "# 2. Data wrangling and cleaning\n",
    "\n",
    "## 2.1. Investigate dataset\n",
    "\n",
    "Let us first investigate the content of the selected columns( class, sex and age) and check if there are any missing values."
   ]
  },
  {
   "cell_type": "code",
   "execution_count": 4,
   "metadata": {
    "collapsed": false
   },
   "outputs": [
    {
     "name": "stdout",
     "output_type": "stream",
     "text": [
      "<class 'pandas.core.frame.DataFrame'>\n",
      "RangeIndex: 891 entries, 0 to 890\n",
      "Data columns (total 3 columns):\n",
      "Pclass    891 non-null int64\n",
      "Sex       891 non-null object\n",
      "Age       714 non-null float64\n",
      "dtypes: float64(1), int64(1), object(1)\n",
      "memory usage: 21.0+ KB\n"
     ]
    }
   ],
   "source": [
    "# print out information about the data\n",
    "titanic_df.info()"
   ]
  },
  {
   "cell_type": "markdown",
   "metadata": {},
   "source": [
    "There are missing 77 missing ages.\n",
    "\n",
    "## 2.2. Insert missing ages\n",
    "For the age missing values it will be tried to apply "
   ]
  },
  {
   "cell_type": "code",
   "execution_count": 6,
   "metadata": {
    "collapsed": false
   },
   "outputs": [
    {
     "name": "stdout",
     "output_type": "stream",
     "text": [
      "Sex     Pclass      \n",
      "female  1       0.05    16.00\n",
      "                0.95    58.00\n",
      "        2       0.05     4.65\n",
      "                0.95    50.00\n",
      "        3       0.05     2.00\n",
      "                0.95    44.90\n",
      "male    1       0.05    19.00\n",
      "                0.95    65.00\n",
      "        2       0.05     1.90\n",
      "                0.95    57.20\n",
      "        3       0.05     5.20\n",
      "                0.95    47.00\n",
      "Name: Age, dtype: float64\n"
     ]
    }
   ],
   "source": [
    "#https://github.com/ghunt03/DAP02-Investigate-a-dataset/blob/master/Titanic%20Dataset%20Investigation.ipynb\n",
    "\n",
    "missing_ages = titanic_df[titanic_df['Age'].isnull()]\n",
    "# determine maximum and minimum age based on Sex and Pclass\n",
    "quantiles_ages = titanic_df[titanic_df['Age'].notnull()].groupby(['Sex','Pclass'])['Age'].quantile([0.05,0.95])\n",
    "print quantiles_ages\n",
    "\n",
    "\n",
    "def remove_na_ages(row):\n",
    "    '''\n",
    "    function to check if the age is null and replace with the a random value int te 0.1-0.9 quantile range \n",
    "    for the class and sex\n",
    "    '''\n",
    "    #print quantiles_ages[row['Sex'],row['Pclass'],0.05],quantiles_ages[row['Sex'],row['Pclass'],0.95]\n",
    "    if pd.isnull(row['Age']):\n",
    "        return float(random.uniform(quantiles_ages[row['Sex'],row['Pclass'],0.05],quantiles_ages[row['Sex'],row['Pclass'],0.95]))\n",
    "    else:\n",
    "        return row['Age']\n",
    "\n",
    "titanic_df.head(3)\n",
    "\n",
    "\n",
    "df = titanic_df.copy(deep = True)\n",
    "df['Age'] = titanic_df.apply(remove_na_ages, axis=1)\n"
   ]
  },
  {
   "cell_type": "code",
   "execution_count": 7,
   "metadata": {
    "collapsed": false
   },
   "outputs": [
    {
     "data": {
      "text/plain": [
       "<matplotlib.text.Text at 0x10a037e90>"
      ]
     },
     "execution_count": 7,
     "metadata": {},
     "output_type": "execute_result"
    },
    {
     "data": {
      "image/png": "[encoded data removed]",
      "text/plain": [
       "<matplotlib.figure.Figure at 0x109a52d50>"
      ]
     },
     "metadata": {},
     "output_type": "display_data"
    }
   ],
   "source": [
    "fig = plt.figure(figsize=[10,10])\n",
    "ax = fig.add_subplot(321)\n",
    "\n",
    "#First class, ages,gender\n",
    "plt.subplot(321)\n",
    "df['Age'][(df['Pclass']==1) & (df['Sex']== 'female')].plot.hist(color='red')\n",
    "plt.ylabel('1st class', fontsize = 14)\n",
    "plt.title('female')\n",
    "\n",
    "plt.subplot(322)\n",
    "df['Age'][(df['Pclass']==1) & (df['Sex']== 'male')].plot.hist(color='blue')\n",
    "plt.title('male')\n",
    "plt.ylabel('', fontsize = 14)\n",
    "\n",
    "#Second class, ages,gender\n",
    "plt.subplot(323)\n",
    "df['Age'][(df['Pclass']==2) & (df['Sex']== 'female')].plot.hist(color='red')\n",
    "plt.ylabel('2nd class', fontsize = 14)\n",
    "#plt.title('female')\n",
    "\n",
    "plt.subplot(324)\n",
    "df['Age'][(df['Pclass']==2) & (df['Sex']== 'male')].plot.hist(color='blue')\n",
    "#plt.title('male')\n",
    "plt.ylabel('', fontsize = 14)\n",
    "\n",
    "#Third class, ages,gender\n",
    "plt.subplot(325)\n",
    "df['Age'][(df['Pclass']==3) & (df['Sex']== 'female')].plot.hist(color='red')\n",
    "plt.ylabel('3rd class', fontsize = 14)\n",
    "#plt.title('female')\n",
    "\n",
    "plt.subplot(326)\n",
    "df['Age'][(df['Pclass']==3) & (df['Sex']== 'male')].plot.hist(color='blue')\n",
    "plt.ylabel('', fontsize = 14)\n",
    "#plt.title('male')"
   ]
  },
  {
   "cell_type": "code",
   "execution_count": 8,
   "metadata": {
    "collapsed": false
   },
   "outputs": [
    {
     "data": {
      "text/plain": [
       "<matplotlib.text.Text at 0x10ace1e50>"
      ]
     },
     "execution_count": 8,
     "metadata": {},
     "output_type": "execute_result"
    },
    {
     "data": {
      "image/png": "[encoded data removed]",
      "text/plain": [
       "<matplotlib.figure.Figure at 0x103d05c10>"
      ]
     },
     "metadata": {},
     "output_type": "display_data"
    }
   ],
   "source": [
    "fig = plt.figure(figsize=[10,10])\n",
    "ax = fig.add_subplot(321)\n",
    "\n",
    "#SURVIVAL\n",
    "#First class, ages, gender\n",
    "plt.subplot(321)\n",
    "outcomes[df['Age'][(df['Pclass']==1) & (df['Sex']== 'female')].index].plot.hist(color='red')\n",
    "plt.ylabel('1st class', fontsize = 14)\n",
    "plt.title('female')\n",
    "\n",
    "plt.subplot(322)\n",
    "outcomes[df['Age'][(df['Pclass']==1) & (df['Sex']== 'male')].index].plot.hist(color='blue')\n",
    "plt.title('male')\n",
    "plt.ylabel('', fontsize = 14)\n",
    "\n",
    "#Second class, ages,gender\n",
    "plt.subplot(323)\n",
    "outcomes[df['Age'][(df['Pclass']==2) & (df['Sex']== 'female')].index].plot.hist(color='red')\n",
    "plt.ylabel('2nd class', fontsize = 14)\n",
    "#plt.title('female')\n",
    "\n",
    "plt.subplot(324)\n",
    "outcomes[df['Age'][(df['Pclass']==2) & (df['Sex']== 'male')].index].plot.hist(color='blue')\n",
    "#plt.title('male')\n",
    "plt.ylabel('', fontsize = 14)\n",
    "\n",
    "#Third class, ages,gender\n",
    "plt.subplot(325)\n",
    "outcomes[df['Age'][(df['Pclass']==3) & (df['Sex']== 'female')].index].plot.hist(color='red')\n",
    "plt.ylabel('3rd class', fontsize = 14)\n",
    "#plt.title('female')\n",
    "\n",
    "plt.subplot(326)\n",
    "outcomes[df['Age'][(df['Pclass']==3) & (df['Sex']== 'male')].index].plot.hist(color='blue')\n",
    "plt.ylabel('', fontsize = 14)\n",
    "#plt.title('male')"
   ]
  },
  {
   "cell_type": "code",
   "execution_count": 9,
   "metadata": {
    "collapsed": false
   },
   "outputs": [
    {
     "name": "stdout",
     "output_type": "stream",
     "text": [
      "[  0.42        20.          28.5         38.86325234  80.        ]\n"
     ]
    },
    {
     "name": "stderr",
     "output_type": "stream",
     "text": [
      "/usr/local/lib/python2.7/site-packages/ipykernel/__main__.py:9: FutureWarning: Categorical.from_array is deprecated, use Categorical instead\n"
     ]
    }
   ],
   "source": [
    "#Calculate the quantiles\n",
    "quartiles = df['Age'].quantile([.000,.25,.5,.75, 1.])\n",
    "print quartiles.values\n",
    "\n",
    "df['Age_group'] = pd.cut(df['Age'], quartiles.values, labels=[1,2,3,4])\n",
    "\n",
    "# transform categorical data into integer   \n",
    "\n",
    "df['Sex_label'] =pd.Categorical.from_array(df['Sex'])\n",
    "\n",
    "#Is a Factor, as in R. To access labels: f.labels\n",
    "# To access levels: f.levels"
   ]
  },
  {
   "cell_type": "code",
   "execution_count": 11,
   "metadata": {
    "collapsed": false
   },
   "outputs": [
    {
     "name": "stdout",
     "output_type": "stream",
     "text": [
      "0.383838383838\n",
      "['female', 'male']\n"
     ]
    },
    {
     "data": {
      "text/plain": [
       "<matplotlib.text.Text at 0x10b36d310>"
      ]
     },
     "execution_count": 11,
     "metadata": {},
     "output_type": "execute_result"
    },
    {
     "data": {
      "image/png": "[encoded data removed]",
      "text/plain": [
       "<matplotlib.figure.Figure at 0x10b16d2d0>"
      ]
     },
     "metadata": {},
     "output_type": "display_data"
    }
   ],
   "source": [
    "fig = plt.figure(figsize=[15,5])\n",
    "ax = fig.add_subplot(131)\n",
    "\n",
    "\n",
    "def survival_ratio(df):\n",
    "    '''This function returns the survival ratio from from the dataframe introduced df'''\n",
    "    return np.sum(df==1)/float(df.size)\n",
    "\n",
    "print survival_ratio(outcomes)\n",
    "\n",
    "#SURVIVAL\n",
    "\n",
    "# Class\n",
    "list_of_classes = sorted(df['Pclass'].unique())\n",
    "survival_classes = [survival_ratio(outcomes[df[df['Pclass']==classes].index]) for classes in list_of_classes]\n",
    "\n",
    "\n",
    "plt.subplot(131)\n",
    "\n",
    "plt.bar(list_of_classes, survival_classes)\n",
    "plt.xticks([1,2,3], ['1st', '2nd', '3rd'])\n",
    "plt.xlabel('Class')\n",
    "plt.ylabel('Survival ratio')\n",
    "\n",
    "#Ages\n",
    "list_of_ages = sorted(df['Age_group'].dropna().unique())\n",
    "\n",
    "survival_ages = [survival_ratio(outcomes[df[df['Age_group']==classes].index]) for classes in list_of_ages]\n",
    "\n",
    "\n",
    "plt.subplot(132)\n",
    "\n",
    "plt.bar(list_of_ages, survival_ages)\n",
    "plt.xticks([1,2,3,4], \n",
    "           ['0-%d'%quartiles[.25],'%d-%d'%(quartiles[.25],quartiles[.5]), '%d-%d'%(quartiles[.5],quartiles[.75]), '>%d'%(quartiles[.75])])\n",
    "plt.xlabel('Age')\n",
    "plt.ylabel('')\n",
    "\n",
    "\n",
    "#Sex\n",
    "\n",
    "list_of_sex = sorted(df['Sex_label'].unique())\n",
    "print list_of_sex\n",
    "survival_sex = [survival_ratio(outcomes[df[df['Sex_label']==classes].index]) for classes in list_of_sex]\n",
    "\n",
    "\n",
    "plt.subplot(133)\n",
    "\n",
    "plt.bar(range(len(list_of_sex)), survival_sex)\n",
    "#plt.xticks([1,2,3,4], ['0-%d'%quartiles[.25],'%d-%d'%(quartiles[.25],quartiles[.5]), '%d-%d'%(quartiles[.5],quartiles[.75]), '>%d'%(quartiles[.75])])\n",
    "plt.xticks([0,1], list_of_sex)\n",
    "plt.xlabel('Sex')\n",
    "plt.ylabel('')\n"
   ]
  },
  {
   "cell_type": "code",
   "execution_count": 33,
   "metadata": {
    "collapsed": false
   },
   "outputs": [
    {
     "data": {
      "text/plain": [
       "array([[<matplotlib.axes._subplots.AxesSubplot object at 0x10d96d7d0>,\n",
       "        <matplotlib.axes._subplots.AxesSubplot object at 0x10da6ec50>,\n",
       "        <matplotlib.axes._subplots.AxesSubplot object at 0x10daf3d50>],\n",
       "       [<matplotlib.axes._subplots.AxesSubplot object at 0x10db64610>,\n",
       "        <matplotlib.axes._subplots.AxesSubplot object at 0x10dbed650>,\n",
       "        <matplotlib.axes._subplots.AxesSubplot object at 0x10dc51f90>],\n",
       "       [<matplotlib.axes._subplots.AxesSubplot object at 0x10dce61d0>,\n",
       "        <matplotlib.axes._subplots.AxesSubplot object at 0x10dd4ca50>,\n",
       "        <matplotlib.axes._subplots.AxesSubplot object at 0x10ddd2b50>]], dtype=object)"
      ]
     },
     "execution_count": 33,
     "metadata": {},
     "output_type": "execute_result"
    },
    {
     "data": {
      "image/png": "[encoded data removed]",
      "text/plain": [
       "<matplotlib.figure.Figure at 0x10d94ac10>"
      ]
     },
     "metadata": {},
     "output_type": "display_data"
    }
   ],
   "source": [
    "df['Survived'] = outcomes\n",
    "pd.tools.plotting.scatter_matrix(df, alpha=0.1, diagonal='hist')"
   ]
  },
  {
   "cell_type": "code",
   "execution_count": 38,
   "metadata": {
    "collapsed": false
   },
   "outputs": [
    {
     "name": "stdout",
     "output_type": "stream",
     "text": [
      "0.0 1.0 0 [  2.   3.   2.   3.   3.   1.   4.   1.   2.   1.   1.   4.   1.   4.   1.\n",
      "   4.   1.   3.   3.   1.   3.   3.   1.   2.   1.   3.   4.   1.   1.   3.\n",
      "   4.   4.   4.   4.   2.   4.   2.   2.   1.   1.   4.   2.   1.   1.   1.\n",
      "   2.   4.   1.   1.   1.   1.   2.   4.   3.   4.   4.   2.   2.   1.   1.\n",
      "   2.   3.   4.   1.   3.   3.   3.   1.   1.   2.   3.   1.   2.   2.   3.\n",
      "   2.   2.   2.   1.   3.   2.   3.   2.   2.   1.   3.   1.   4.   2.   2.\n",
      "   3.   1.   4.   2.   4.   1.   4.   2.   3.   3.   2.   1.   2.   3.   3.\n",
      "   2.   2.   2.   3.   4.   4.   1.   2.   1.   1.   2.   4.   3.   2.   1.\n",
      "   2.   3.   3.   3.   4.   1.   2.   2.   4.   4.   3.   1.   4.   3.   2.\n",
      "   2.   1.   3.   1.   2.   4.   2.   2.   1.   1.   1.   2.   1.   3.   4.\n",
      "   4.   2.   4.   4.   4.   4.   1.   3.   1.   1.   4.   4.   2.   1.   1.\n",
      "   1.   4.   4.   4.   2.   4.   1.   1.   2.   4.   1.   2.   4.   3.   3.\n",
      "   1.   3.   1.   1.   1.   4.   3.   4.   4.   3.   3.   1.   1.   1.   4.\n",
      "   4.   2.   4.   3.   2.   2.   3.   3.   4.   1.   1.   3.   2.   1.   4.\n",
      "   2.   3.   2.   3.   2.   3.   2.   4.   3.   3.   1.   2.   4.   2.   3.\n",
      "   2.   1.   2.   1.   2.   3.   3.   4.   1.   2.   2.   4.   1.   1.   3.\n",
      "   1.   1.   3.   2.   3.   4.   2.   2.   3.   4.   1.   3.   4.   3.   4.\n",
      "   3.   1.   3.   3.   4.   4.   1.   4.   4.   3.   3.   1.   2.   4.   3.\n",
      "   4.   2.   4.   3.   1.   4.   4.   3.   1.   3.   4.   2.   1.   1.   3.\n",
      "   3.   3.   2.   4.   2.   2.   1.   3.   2.   2.   4.   2.   1.   2.   4.\n",
      "   4.   2.   1.   1.   4.   1.   3.   1.   3.   3.   2.   1.   2.   2.   4.\n",
      "   2.   2.   4.   3.   4.   2.   2.   3.   2.   3.   3.   4.   3.   3.   1.\n",
      "   1.   4.   3.   1.   4.   3.   3.   4.   4.   4.   1.   2.   2.   2.   3.\n",
      "   2.   4.   1.   1.   4.   2.   3.   1.   2.   2.   2.   2.   3.   1.   3.\n",
      "   4.   3.   4.   3.   1.   3.   4.   4.   4.   2.   2.   1.   1.   2.   1.\n",
      "   4.   2.   2.   1.   1.   4.   1.   3.   3.   4.   1.   1.   3.   4.   1.\n",
      "   3.   2.   2.   2.   2.   2.   3.   4.   2.   2.   4.   2.   2.   2.   1.\n",
      "   3.   4.   1.   2.   1.   1.   2.   3.   4.   4.   2.   3.   1.   3.   1.\n",
      "   1.   2.   3.   2.   1.   2.   2.   1.   3.   3.   2.   4.   4.   1.   4.\n",
      "   1.   2.   2.   4.   3.   4.   1.   2.   2.   4.   1.   1.   3.   1.   4.\n",
      "   3.   1.   3.   4.   4.   3.   4.   2.   4.   3.   4.   3.   4.   4.   3.\n",
      "   3.   4.   4.   3.   1.   1.   3.   3.   2.   2.   3.   3.   3.   2.   1.\n",
      "   1.   4.   4.   4.   2.   4.   3.   4.   3.   1.   1.   2.   4.   4.   2.\n",
      "   3.   4.   3.   2.   2.   1.   2.   3.   3.   1.   1.   3.   3.   2.   2.\n",
      "   3.   3.   3.   4.   2.   4.   3.   1.   3.   3.   3.   2.   1.   4.   1.\n",
      "   4.   4.   4.   4.   2.   1.   1.   1.   2.   3.   1.   4.   3.   2.   2.\n",
      "   3.   1.   1.   3.   4.   4.   1.   3.   3.   1.   1.   2.   4.   2.   2.\n",
      "   4.   4.   4.   4.   3.   1.   4.   2.   3.   3.   2.   1.   3.   2.   3.\n",
      "   4.   4.   3.   3.   1.   1.   3.   4.   2.   3.   2.   4.   4.   3.   4.\n",
      "   1.   4.   4.   2.   3.   3.   4.   4.   2.   3.   3.   1.   4.   2.   4.\n",
      "   2.   1.   2.   4.   3.   3.   3.   2.   2.   4.   4.   3.   1.   2.   3.\n",
      "   2.   3.   2.   1.   2.   2.   4.   1.   2.   2.   4.   4.   2.   2.   1.\n",
      "   4.   4.   3.   4.   1.   2.   3.   3.   4.   1.   1.   2.   1.   1.   1.\n",
      "   4.   1.   4.   3.   2.   4.   1.   2.   1.   1.   2.   3.   3.   2.   4.\n",
      "   4.   4.   4.   3.   1.   3.   2.   4.   4.   4.   4.   3.   4.   3.   4.\n",
      "   1.   2.   1.   4.   3.   2.   2.   1.   1.   4.   2.   1.   1.   1.   1.\n",
      "   3.   1.   3.   2.   4.   4.   4.   1.   4.   4.   1.   3.   1.   2.   2.\n",
      "   4.   4.   4.   2.   3.   2.   3.   4.   3.   4.   1.   3.   2.   2.   3.\n",
      "   1.   1.   3.   4.   2.   1.   3.   3.   2.   2.   3.   1.   2.   2.   2.\n",
      "   2.   4.   3.   1.   4.   2.   3.   2.   2.   3.   4.   1.   3.   1.   3.\n",
      "   1.   1.   3.   2.   4.   1.   2.   1.   3.   3.   1.   4.   1.   3.   1.\n",
      "   4.   3.   3.   4.   3.   2.   4.   4.   3.   4.   1.   1.   1.   1.   4.\n",
      "   1.   1.   3.   3.   2.   2.   1.   1.   1.   4.   3.   1.   1.   2.   2.\n",
      "   4.   4.   3.   3.   3.   3.   3.   1.  nan   2.   3.   4.   1.   4.   3.\n",
      "   2.   4.   3.   1.   3.   4.   2.   3.   4.   1.   4.   2.   3.   2.   1.\n",
      "   2.   4.   1.   1.   4.   1.   1.   3.   2.   1.   4.   2.   3.   3.   2.\n",
      "   1.   1.   3.   3.   1.   4.   2.   3.   2.   4.   1.   4.   1.   1.   4.\n",
      "   1.   4.   4.   2.   3.   4.   2.   4.   4.   2.   4.   2.   3.   1.   1.\n",
      "   2.   4.   3.   4.   2.   1.   1.   1.   3.   4.   2.   3.   2.   2.   2.\n",
      "   4.   2.   1.   3.   2.   3.]\n"
     ]
    }
   ],
   "source": [
    "from scipy import stats\n",
    "V, p, dof, expected = stats.chi2_contingency(df.Age_group)\n",
    "\n",
    "print V, p, dof, expected"
   ]
  },
  {
   "cell_type": "markdown",
   "metadata": {},
   "source": [
    "# OLD PROJECT"
   ]
  },
  {
   "cell_type": "code",
   "execution_count": 5,
   "metadata": {
    "collapsed": false
   },
   "outputs": [
    {
     "name": "stdout",
     "output_type": "stream",
     "text": [
      "Predictions have an accuracy of 60.00%.\n"
     ]
    }
   ],
   "source": [
    "def accuracy_score(truth, pred):\n",
    "    \"\"\" Returns accuracy score for input truth and predictions. \"\"\"\n",
    "    \n",
    "    # Ensure that the number of predictions matches number of outcomes\n",
    "    if len(truth) == len(pred): \n",
    "        \n",
    "        # Calculate and return the accuracy as a percent\n",
    "        return \"Predictions have an accuracy of {:.2f}%.\".format((truth == pred).mean()*100)\n",
    "    \n",
    "    else:\n",
    "        return \"Number of predictions does not match number of outcomes!\"\n",
    "    \n",
    "# Test the 'accuracy_score' function\n",
    "predictions = pd.Series(np.ones(5, dtype = int))\n",
    "print accuracy_score(outcomes[:5], predictions)"
   ]
  },
  {
   "cell_type": "markdown",
   "metadata": {},
   "source": [
    "Examining the survival statistics, a large majority of males did not survive the ship sinking. However, a majority of females *did* survive the ship sinking. Let's build on our previous prediction: If a passenger was female, then we will predict that they survived. Otherwise, we will predict the passenger did not survive.  \n",
    "Fill in the missing code below so that the function will make this prediction.  \n",
    "**Hint:** You can access the values of each feature for a passenger like a dictionary. For example, `passenger['Sex']` is the sex of the passenger."
   ]
  },
  {
   "cell_type": "code",
   "execution_count": 24,
   "metadata": {
    "collapsed": false
   },
   "outputs": [],
   "source": [
    "def predictions_1(data):\n",
    "    \"\"\" Model with one feature: \n",
    "            - Predict a passenger survived if they are female. \"\"\"\n",
    "    \n",
    "    predictions = []\n",
    "    for _, passenger in data.iterrows():\n",
    "        \n",
    "        if passenger['Sex']== 'female':\n",
    "            predictions.append(1)\n",
    "        else: #males are predicted to not survive\n",
    "            predictions.append(0)\n",
    "    \n",
    "    # Return our predictions\n",
    "    return pd.Series(predictions)\n",
    "\n",
    "# Make the predictions\n",
    "predictions = predictions_1(data)"
   ]
  },
  {
   "cell_type": "markdown",
   "metadata": {},
   "source": [
    "### Question 2\n",
    "*How accurate would a prediction be that all female passengers survived and the remaining passengers did not survive?*  \n",
    "**Hint:** Run the code cell below to see the accuracy of this prediction."
   ]
  },
  {
   "cell_type": "code",
   "execution_count": 25,
   "metadata": {
    "collapsed": false
   },
   "outputs": [
    {
     "name": "stdout",
     "output_type": "stream",
     "text": [
      "Predictions have an accuracy of 78.68%.\n"
     ]
    }
   ],
   "source": [
    "print accuracy_score(outcomes, predictions)"
   ]
  },
  {
   "cell_type": "markdown",
   "metadata": {},
   "source": [
    "**Answer**: 78.68%"
   ]
  },
  {
   "cell_type": "markdown",
   "metadata": {},
   "source": [
    "Using just the **Sex** feature for each passenger, we are able to increase the accuracy of our predictions by a significant margin. Now, let's consider using an additional feature to see if we can further improve our predictions. Consider, for example, all of the male passengers aboard the RMS Titanic: Can we find a subset of those passengers that had a higher rate of survival? Let's start by looking at the **Age** of each male, by again using the `survival_stats` function. This time, we'll use a fourth parameter to filter out the data so that only passengers with the **Sex** 'male' will be included.  \n",
    "Run the code cell below to plot the survival outcomes of male passengers based on their age."
   ]
  },
  {
   "cell_type": "code",
   "execution_count": 26,
   "metadata": {
    "collapsed": false
   },
   "outputs": [
    {
     "data": {
      "image/png": "[encoded data removed]",
      "text/plain": [
       "<matplotlib.figure.Figure at 0x7f0555d0c190>"
      ]
     },
     "metadata": {},
     "output_type": "display_data"
    }
   ],
   "source": [
    "survival_stats(data, outcomes, 'Age', [\"Sex == 'male'\"])"
   ]
  },
  {
   "cell_type": "markdown",
   "metadata": {
    "collapsed": true
   },
   "source": [
    "Examining the survival statistics, the majority of males younger then 10 survived the ship sinking, whereas most males age 10 or older *did not survive* the ship sinking. Let's continue to build on our previous prediction: If a passenger was female, then we will predict they survive. If a passenger was male and younger than 10, then we will also predict they survive. Otherwise, we will predict they do not survive.  \n",
    "Fill in the missing code below so that the function will make this prediction.  \n",
    "**Hint:** You can start your implementation of this function using the prediction code you wrote earlier from `predictions_1`."
   ]
  },
  {
   "cell_type": "code",
   "execution_count": 27,
   "metadata": {
    "collapsed": false
   },
   "outputs": [],
   "source": [
    "def predictions_2(data):\n",
    "    \"\"\" Model with two features: \n",
    "            - Predict a passenger survived if they are female.\n",
    "            - Predict a passenger survived if they are male and younger than 10. \"\"\"\n",
    "    \n",
    "    predictions = []\n",
    "    for _, passenger in data.iterrows():\n",
    "        \n",
    "        if passenger['Sex']== 'female':\n",
    "            predictions.append(1)\n",
    "        else: \n",
    "            if passenger['Age']<10:\n",
    "                predictions.append(1)\n",
    "            else:  #males older than 10 predicted to not survive\n",
    "                predictions.append(0)\n",
    "    \n",
    "    # Return our predictions\n",
    "    return pd.Series(predictions)\n",
    "\n",
    "# Make the predictions\n",
    "predictions = predictions_2(data)"
   ]
  },
  {
   "cell_type": "markdown",
   "metadata": {},
   "source": [
    "### Question 3\n",
    "*How accurate would a prediction be that all female passengers and all male passengers younger than 10 survived?*  \n",
    "**Hint:** Run the code cell below to see the accuracy of this prediction."
   ]
  },
  {
   "cell_type": "code",
   "execution_count": 28,
   "metadata": {
    "collapsed": false
   },
   "outputs": [
    {
     "name": "stdout",
     "output_type": "stream",
     "text": [
      "Predictions have an accuracy of 79.35%.\n"
     ]
    }
   ],
   "source": [
    "print accuracy_score(outcomes, predictions)"
   ]
  },
  {
   "cell_type": "markdown",
   "metadata": {},
   "source": [
    "**Answer**: 79.35%"
   ]
  },
  {
   "cell_type": "markdown",
   "metadata": {
    "collapsed": true
   },
   "source": [
    "Adding the feature **Age** as a condition in conjunction with **Sex** improves the accuracy by a small margin more than with simply using the feature **Sex** alone. Now it's your turn: Find a series of features and conditions to split the data on to obtain an outcome prediction accuracy of at least 80%. This may require multiple features and multiple levels of conditional statements to succeed. You can use the same feature multiple times with different conditions.   \n",
    "**Pclass**, **Sex**, **Age**, **SibSp**, and **Parch** are some suggested features to try.\n",
    "\n",
    "Use the `survival_stats` function below to to examine various survival statistics.  \n",
    "**Hint:** To use mulitple filter conditions, put each condition in the list passed as the last argument. Example: `[\"Sex == 'male'\", \"Age < 18\"]`"
   ]
  },
  {
   "cell_type": "code",
   "execution_count": 29,
   "metadata": {
    "collapsed": false
   },
   "outputs": [
    {
     "data": {
      "image/png": "[encoded data removed]",
      "text/plain": [
       "<matplotlib.figure.Figure at 0x7f055599bd90>"
      ]
     },
     "metadata": {},
     "output_type": "display_data"
    },
    {
     "data": {
      "image/png": "[encoded data removed]",
      "text/plain": [
       "<matplotlib.figure.Figure at 0x7f0555b7d2d0>"
      ]
     },
     "metadata": {},
     "output_type": "display_data"
    }
   ],
   "source": [
    "survival_stats(data, outcomes, 'Age', [\"Sex == 'male'\", \"Pclass == 1\"])\n",
    "\n",
    "survival_stats(data, outcomes, 'Age', [\"Sex == 'female'\", \"Pclass == 3\"])\n"
   ]
  },
  {
   "cell_type": "markdown",
   "metadata": {},
   "source": [
    "After exploring the survival statistics visualization, fill in the missing code below so that the function will make your prediction.  \n",
    "Make sure to keep track of the various features and conditions you tried before arriving at your final prediction model.  \n",
    "**Hint:** You can start your implementation of this function using the prediction code you wrote earlier from `predictions_2`."
   ]
  },
  {
   "cell_type": "code",
   "execution_count": 30,
   "metadata": {
    "collapsed": false
   },
   "outputs": [],
   "source": [
    "def predictions_3(data):\n",
    "    \"\"\" Model with multiple features. Makes a prediction with an accuracy of at least 80%. \"\"\"\n",
    "    \n",
    "    predictions = []\n",
    "    for _, passenger in data.iterrows():\n",
    "        \n",
    "        if passenger['Sex']== 'female':\n",
    "            if passenger['Pclass']==3 and passenger['Age']>=40 and passenger['Age']<50: \n",
    "                predictions.append(0)\n",
    "            else:\n",
    "                predictions.append(1)\n",
    "\n",
    "        else: #males\n",
    "            if passenger['Age']<10: #males under 10\n",
    "                predictions.append(1)\n",
    "            else:  #males older than 10 predicted to not survive\n",
    "                if passenger['Pclass']==1 and passenger['Age']>=20 and passenger['Age']<40:   \n",
    "                                                                    #1st class between 10-40 males \n",
    "                    predictions.append(1)                           #are predicted to survive\n",
    "                else:\n",
    "                    predictions.append(0)\n",
    "    \n",
    "    # Return our predictions\n",
    "    return pd.Series(predictions)\n",
    "\n",
    "# Make the predictions\n",
    "predictions = predictions_3(data)"
   ]
  },
  {
   "cell_type": "markdown",
   "metadata": {},
   "source": [
    "### Question 4\n",
    "*Describe the steps you took to implement the final prediction model so that it got an accuracy of at least 80%. What features did you look at? Were certain features more informative than others? Which conditions did you use to split the survival outcomes in the data? How accurate are your predictions?*  \n",
    "**Hint:** Run the code cell below to see the accuracy of your predictions."
   ]
  },
  {
   "cell_type": "code",
   "execution_count": 31,
   "metadata": {
    "collapsed": false
   },
   "outputs": [
    {
     "name": "stdout",
     "output_type": "stream",
     "text": [
      "Predictions have an accuracy of 80.47%.\n"
     ]
    }
   ],
   "source": [
    "print accuracy_score(outcomes, predictions)"
   ]
  },
  {
   "cell_type": "markdown",
   "metadata": {},
   "source": [
    "**Answer**: Females are predicted to survive, and also males under 10. \n",
    "\n",
    "Remaining males are to be examined: I checked how class affected men's survival, plotting statistics for each class vs age for men. Concretely, I found men from \"1st class\" with ages between 20-40 survive.\n",
    "\n",
    "Re-examining women: finally I took a look to how class affected women (I plotted survival statistics for  1si, 2nd and 3rd class) and I saw how 3rd class women have higher death rates. Plotting 3rd class women survival rates vs age it is observed that women between 40-50 are predicted to die.\n",
    "\n",
    "**Accuracy**: 80.47%"
   ]
  },
  {
   "cell_type": "markdown",
   "metadata": {},
   "source": [
    "# Conclusion\n",
    "\n",
    "Congratulations on what you've accomplished here! You should now have an algorithm for predicting whether or not a person survived the Titanic disaster, based on their features. In fact, what you have done here is a manual implementation of a simple machine learning model, the _decision tree_. In a decision tree, we split the data into smaller groups, one feature at a time. Each of these splits will result in groups that are more homogeneous than the original group, so that our predictions become more accurate. The advantage of having a computer do things for us is that it will be more exhaustive and more precise than our manual exploration above. [This link](http://www.r2d3.us/visual-intro-to-machine-learning-part-1/) provides another introduction into machine learning using a decision tree.\n",
    "\n",
    "A decision tree is just one of many algorithms that fall into the category of _supervised learning_. In this Nanodegree, you'll learn about supervised learning techniques first. In supervised learning, we concern ourselves with using features of data to predict or model things with objective outcome labels. That is, each of our datapoints has a true outcome value, whether that be a category label like survival in the Titanic dataset, or a continuous value like predicting the price of a house.\n",
    "\n",
    "### Question 5\n",
    "*Can you think of an example of where supervised learning can be applied?*  \n",
    "**Hint:** Be sure to note the outcome variable to be predicted and at least two features that might be useful for making the predictions."
   ]
  },
  {
   "cell_type": "markdown",
   "metadata": {
    "collapsed": true
   },
   "source": [
    "**Answer**: One example of supervised learning can be medical diagnosis, i.e. maligne tumor diagnosis.\n",
    "\n",
    "Features could be the diameter of the tumor, the age of the patient and the gender. The output could be whether the tumor is maligne or not.\n",
    "\n",
    "\n",
    "maligne= diagnosis(diameter_of_tumor, age_of_patient, gender_of_patient)\n",
    "\n",
    "INPUT VARIABLES: diameter of tumor, age and gender of the patient\n",
    "\n",
    "OUTPUT: malignancy of the tumor"
   ]
  },
  {
   "cell_type": "markdown",
   "metadata": {},
   "source": [
    "> **Note**: Once you have completed all of the code implementations and successfully answered each question above, you may finalize your work by exporting the iPython Notebook as an HTML document. You can do this by using the menu above and navigating to  \n",
    "**File -> Download as -> HTML (.html)**. Include the finished document along with this notebook as your submission."
   ]
  }
 ],
 "metadata": {
  "kernelspec": {
   "display_name": "Python 2",
   "language": "python",
   "name": "python2"
  },
  "language_info": {
   "codemirror_mode": {
    "name": "ipython",
    "version": 2
   },
   "file_extension": ".py",
   "mimetype": "text/x-python",
   "name": "python",
   "nbconvert_exporter": "python",
   "pygments_lexer": "ipython2",
   "version": "2.7.11"
  },
  "widgets": {
   "state": {},
   "version": "1.1.2"
  }
 },
 "nbformat": 4,
 "nbformat_minor": 0
}
